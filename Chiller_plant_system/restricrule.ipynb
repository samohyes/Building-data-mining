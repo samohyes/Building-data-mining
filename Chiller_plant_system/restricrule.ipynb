{
 "cells": [
  {
   "cell_type": "code",
   "execution_count": 1,
   "metadata": {},
   "outputs": [],
   "source": [
    "import pandas as pd\n",
    "import os\n",
    "import numpy as np\n",
    "import matplotlib.pyplot as plt\n",
    "import json\n",
    "from sklearn import preprocessing\n",
    "from sklearn.cluster import KMeans\n",
    "from operator import itemgetter\n",
    "import seaborn as sns\n",
    "import Orange"
   ]
  },
  {
   "cell_type": "code",
   "execution_count": 5,
   "metadata": {},
   "outputs": [
    {
     "name": "stdout",
     "output_type": "stream",
     "text": [
      "125\n"
     ]
    }
   ],
   "source": [
    "with open('SAX_day_weekday_cp_sys.basket') as f:\n",
    "    content = f.readlines()\n",
    "content = [x.strip() for x in content]\n",
    "content = content[1:]\n",
    "ruleset = []\n",
    "temp = []\n",
    "for i in range(5422):\n",
    "    if(float(content[i].split(',')[-1]) > float(content[i+1].split(',')[-1])):\n",
    "        temp.append(content[i])\n",
    "        ruleset.append(temp)\n",
    "        temp = []\n",
    "    else:\n",
    "        temp.append(content[i])\n",
    "print(len(ruleset))"
   ]
  },
  {
   "cell_type": "code",
   "execution_count": 10,
   "metadata": {},
   "outputs": [],
   "source": [
    "myfile = open(\"week_data.basket\",\"w\")\n",
    "for j in range(125):\n",
    "    for i in ruleset[j]:\n",
    "        myfile.write(i)\n",
    "        myfile.write(\"\\n\")\n",
    "    myfile.write(\"###\")\n",
    "    myfile.write(\"\\n\")\n",
    "myfile.close()"
   ]
  }
 ],
 "metadata": {
  "kernelspec": {
   "display_name": "Python 2",
   "language": "python",
   "name": "python2"
  },
  "language_info": {
   "codemirror_mode": {
    "name": "ipython",
    "version": 2
   },
   "file_extension": ".py",
   "mimetype": "text/x-python",
   "name": "python",
   "nbconvert_exporter": "python",
   "pygments_lexer": "ipython2",
   "version": "2.7.14"
  }
 },
 "nbformat": 4,
 "nbformat_minor": 2
}
